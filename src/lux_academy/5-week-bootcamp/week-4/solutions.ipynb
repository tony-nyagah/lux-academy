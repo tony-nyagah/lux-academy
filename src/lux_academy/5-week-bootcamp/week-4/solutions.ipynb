{
 "cells": [
  {
   "cell_type": "markdown",
   "metadata": {},
   "source": [
    "1. Write a Python program to check whether a string is a palindrome or not using a stack."
   ]
  },
  {
   "cell_type": "code",
   "execution_count": 5,
   "metadata": {},
   "outputs": [],
   "source": [
    "class Stack:\n",
    "    \"\"\"This is the stack data structure implementation.\"\"\"\n",
    "    def __init__(self):\n",
    "        self.items = []\n",
    "\n",
    "    def is_empty(self):\n",
    "        return len(self.items) == 0\n",
    "\n",
    "    def push(self, item):\n",
    "        self.items.append(item)\n",
    "\n",
    "    def pop(self):\n",
    "        if not self.is_empty():\n",
    "            return self.items.pop()\n",
    "        else:\n",
    "            return \"Stack is empty\"\n",
    "\n",
    "    def peek(self):\n",
    "        if not self.is_empty():\n",
    "            return self.items[-1]\n",
    "        else:\n",
    "            return \"Stack is empty\"\n",
    "\n",
    "    def size(self):\n",
    "        return len(self.items)"
   ]
  },
  {
   "cell_type": "code",
   "execution_count": 6,
   "metadata": {},
   "outputs": [],
   "source": [
    "def is_palindrome(s: str):\n",
    "    \"\"\"Function to check if a string is a palindrome using a stack.\"\"\"\n",
    "    unmerged_s = s\n",
    "    # merge the string\n",
    "    s = \"\".join([char for char in s if char.isalnum()]).lower()\n",
    "\n",
    "    stack = Stack()\n",
    "\n",
    "    for char in s:\n",
    "        stack.push(char)\n",
    "\n",
    "    reversed_s = \"\"\n",
    "\n",
    "    while not stack.is_empty():\n",
    "        reversed_s += stack.pop()\n",
    "\n",
    "    if s == reversed_s:\n",
    "        return f\"`{unmerged_s}` is a palindrome!!\"\n",
    "\n",
    "    return f\"`{unmerged_s}` is not a palindrome.\""
   ]
  },
  {
   "cell_type": "code",
   "execution_count": 7,
   "metadata": {},
   "outputs": [
    {
     "name": "stdout",
     "output_type": "stream",
     "text": [
      "`mom` is a palindrome!!\n",
      "`dad` is a palindrome!!\n",
      "`racecar` is a palindrome!!\n",
      "`diego` is not a palindrome.\n",
      "`abbacus` is not a palindrome.\n",
      "=============================\n",
      "`A man, a plan, a canal: Panama` is a palindrome!!\n",
      "`race a car` is not a palindrome.\n"
     ]
    }
   ],
   "source": [
    "print(is_palindrome(\"mom\"))\n",
    "print(is_palindrome(\"dad\"))\n",
    "print(is_palindrome(\"racecar\"))\n",
    "print(is_palindrome(\"diego\"))\n",
    "print(is_palindrome(\"abbacus\"))\n",
    "print(\"=============================\")\n",
    "print(is_palindrome(\"A man, a plan, a canal: Panama\"))\n",
    "print(is_palindrome(\"race a car\"))"
   ]
  }
 ],
 "metadata": {
  "kernelspec": {
   "display_name": ".venv",
   "language": "python",
   "name": "python3"
  },
  "language_info": {
   "codemirror_mode": {
    "name": "ipython",
    "version": 3
   },
   "file_extension": ".py",
   "mimetype": "text/x-python",
   "name": "python",
   "nbconvert_exporter": "python",
   "pygments_lexer": "ipython3",
   "version": "3.12.4"
  }
 },
 "nbformat": 4,
 "nbformat_minor": 2
}
