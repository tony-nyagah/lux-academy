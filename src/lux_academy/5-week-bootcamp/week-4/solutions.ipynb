{
 "cells": [
  {
   "cell_type": "markdown",
   "metadata": {},
   "source": [
    "1. Write a Python program to check whether a string is a palindrome or not using a stack."
   ]
  },
  {
   "cell_type": "code",
   "execution_count": 113,
   "metadata": {},
   "outputs": [],
   "source": [
    "class Stack:\n",
    "    \"\"\"This is the stack data structure implementation.\"\"\"\n",
    "    def __init__(self):\n",
    "        self.items = []\n",
    "\n",
    "    def is_empty(self):\n",
    "        return len(self.items) == 0\n",
    "\n",
    "    def push(self, item):\n",
    "        self.items.append(item)\n",
    "\n",
    "    def pop(self):\n",
    "        if not self.is_empty():\n",
    "            return self.items.pop()\n",
    "        else:\n",
    "            return \"Stack is empty\"\n",
    "\n",
    "    def peek(self):\n",
    "        if not self.is_empty():\n",
    "            return self.items[-1]\n",
    "        else:\n",
    "            return \"Stack is empty\"\n",
    "\n",
    "    def size(self):\n",
    "        return len(self.items)"
   ]
  },
  {
   "cell_type": "code",
   "execution_count": 114,
   "metadata": {},
   "outputs": [],
   "source": [
    "def is_palindrome(s: str):\n",
    "    \"\"\"Function to check if a string is a palindrome using a stack.\"\"\"\n",
    "    unmerged_s = s\n",
    "    # merge the string\n",
    "    s = \"\".join([char for char in s if char.isalnum()]).lower()\n",
    "\n",
    "    stack = Stack()\n",
    "\n",
    "    for char in s:\n",
    "        stack.push(char)\n",
    "\n",
    "    reversed_s = \"\"\n",
    "\n",
    "    while not stack.is_empty():\n",
    "        reversed_s += stack.pop()\n",
    "\n",
    "    if s == reversed_s:\n",
    "        return f\"`{unmerged_s}` is a palindrome!!\"\n",
    "\n",
    "    return f\"`{unmerged_s}` is not a palindrome.\""
   ]
  },
  {
   "cell_type": "code",
   "execution_count": 115,
   "metadata": {},
   "outputs": [
    {
     "name": "stdout",
     "output_type": "stream",
     "text": [
      "`mom` is a palindrome!!\n",
      "`dad` is a palindrome!!\n",
      "`racecar` is a palindrome!!\n",
      "`diego` is not a palindrome.\n",
      "`abbacus` is not a palindrome.\n",
      "=============================\n",
      "`A man, a plan, a canal: Panama` is a palindrome!!\n",
      "`race a car` is not a palindrome.\n"
     ]
    }
   ],
   "source": [
    "print(is_palindrome(\"mom\"))\n",
    "print(is_palindrome(\"dad\"))\n",
    "print(is_palindrome(\"racecar\"))\n",
    "print(is_palindrome(\"diego\"))\n",
    "print(is_palindrome(\"abbacus\"))\n",
    "print(\"=============================\")\n",
    "print(is_palindrome(\"A man, a plan, a canal: Panama\"))\n",
    "print(is_palindrome(\"race a car\"))"
   ]
  },
  {
   "cell_type": "markdown",
   "metadata": {},
   "source": [
    "2. Explain the concept of list comprehension in Python with at least three examples."
   ]
  },
  {
   "cell_type": "markdown",
   "metadata": {},
   "source": [
    "**Answer**: List comprehension is a powerful feature in Python that allows you to create lists in a concise and readable way. It consists of brackets containing an expression, which is executed for each element, along with the for loop to loop over the iterable."
   ]
  },
  {
   "cell_type": "markdown",
   "metadata": {},
   "source": [
    "Basic syntax: `[expression for variable in iterable]`\n"
   ]
  },
  {
   "cell_type": "markdown",
   "metadata": {},
   "source": [
    "Examples:"
   ]
  },
  {
   "cell_type": "code",
   "execution_count": 116,
   "metadata": {},
   "outputs": [
    {
     "name": "stdout",
     "output_type": "stream",
     "text": [
      "[1, 4, 9, 16, 25]\n"
     ]
    }
   ],
   "source": [
    "# Squaring Numbers\n",
    "numbers = [1, 2, 3, 4, 5]\n",
    "squares = [x**2 for x in numbers]\n",
    "print(squares)  # [1, 4, 9, 16, 25]"
   ]
  },
  {
   "cell_type": "code",
   "execution_count": 117,
   "metadata": {},
   "outputs": [
    {
     "name": "stdout",
     "output_type": "stream",
     "text": [
      "[2, 4, 6]\n"
     ]
    }
   ],
   "source": [
    "# Filtering Even Numbers\n",
    "numbers = [1, 2, 3, 4, 5, 6]\n",
    "even_numbers = [x for x in numbers if x % 2 == 0]\n",
    "print(even_numbers)  # [2, 4, 6]"
   ]
  },
  {
   "cell_type": "code",
   "execution_count": 118,
   "metadata": {},
   "outputs": [
    {
     "name": "stdout",
     "output_type": "stream",
     "text": [
      "['APPLE', 'BANANA', 'CHERRY']\n"
     ]
    }
   ],
   "source": [
    "# Converting Strings to Uppercase\n",
    "fruits = [\"apple\", \"banana\", \"cherry\"]\n",
    "uppercase_fruits = [fruit.upper() for fruit in fruits]\n",
    "print(uppercase_fruits)  # ['APPLE', 'BANANA', 'CHERRY']"
   ]
  },
  {
   "cell_type": "markdown",
   "metadata": {},
   "source": [
    "3. Explain what a compound datatype is in Python with three examples."
   ]
  },
  {
   "cell_type": "markdown",
   "metadata": {},
   "source": [
    "**Answer**: In Python, a compound data type is a data type that is composed of other data types. It allows you to create complex data structures by combining multiple elements or values. Compound data types provide a way to organize and manipulate data in a more structured and meaningful way."
   ]
  },
  {
   "cell_type": "markdown",
   "metadata": {},
   "source": [
    "**Example 1: Lists**\n",
    "\n",
    "A list is a compound data type in Python that can hold multiple values of different data types. It is an ordered collection of items enclosed in square brackets. Lists are mutable, meaning you can modify their elements after creation."
   ]
  },
  {
   "cell_type": "code",
   "execution_count": 119,
   "metadata": {},
   "outputs": [
    {
     "name": "stdout",
     "output_type": "stream",
     "text": [
      "[1, 2, 3, 4, 5]\n",
      "['apple', 'banana', 'cherry']\n",
      "[1, 'two', 3.0, True]\n"
     ]
    }
   ],
   "source": [
    "numbers = [1, 2, 3, 4, 5]\n",
    "fruits = [\"apple\", \"banana\", \"cherry\"]\n",
    "mixed = [1, \"two\", 3.0, True]\n",
    "print(numbers)  # [1, 2, 3, 4, 5]\n",
    "print(fruits)  # ['apple', 'banana', 'cherry']\n",
    "print(mixed)  # [1, 'two', 3.0, True]"
   ]
  },
  {
   "cell_type": "markdown",
   "metadata": {},
   "source": [
    "**Example 2: Tuples**\n",
    "\n",
    "A tuple is another compound data type in Python that can hold multiple values of different data types. It is an ordered collection of items enclosed in parentheses. Tuples are immutable, meaning you cannot modify their elements after creation."
   ]
  },
  {
   "cell_type": "code",
   "execution_count": 120,
   "metadata": {},
   "outputs": [
    {
     "name": "stdout",
     "output_type": "stream",
     "text": [
      "(1, 2, 3, 4, 5)\n",
      "('apple', 'banana', 'cherry')\n",
      "(1, 'two', 3.0, True)\n"
     ]
    }
   ],
   "source": [
    "numbers = (1, 2, 3, 4, 5)\n",
    "fruits = (\"apple\", \"banana\", \"cherry\")\n",
    "mixed = (1, \"two\", 3.0, True)\n",
    "print(numbers)  # (1, 2, 3, 4, 5)\n",
    "print(fruits)  # ('apple', 'banana', 'cherry')\n",
    "print(mixed)  # (1, 'two', 3.0, True)"
   ]
  },
  {
   "cell_type": "markdown",
   "metadata": {},
   "source": [
    "**Example 3: Dictionaries**\n",
    "\n",
    "A dictionary is a compound data type in Python that stores key-value pairs. It is an unordered collection of items where each key is unique and maps to a value. Dictionaries are mutable, meaning you can modify their elements after creation."
   ]
  },
  {
   "cell_type": "code",
   "execution_count": 121,
   "metadata": {},
   "outputs": [
    {
     "name": "stdout",
     "output_type": "stream",
     "text": [
      "{'name': 'John', 'age': 30, 'city': 'New York'}\n",
      "{'name': 'John', 'age': 30, 'city': 'New York', 'country': 'USA'}\n"
     ]
    }
   ],
   "source": [
    "person = {\"name\": \"John\", \"age\": 30, \"city\": \"New York\"}\n",
    "print(person)  # {'name': 'John', 'age': 30, 'city': 'New York'}\n",
    "person[\"country\"] = \"USA\"\n",
    "print(person)  # {'name': 'John', 'age': 30, 'city': 'New York', 'country': 'USA'}"
   ]
  },
  {
   "cell_type": "markdown",
   "metadata": {},
   "source": [
    "4. Write a function that takes a string and returns a list of bigrams."
   ]
  },
  {
   "cell_type": "markdown",
   "metadata": {},
   "source": [
    "**Answer**: A bigram is a sequence of two adjacent elements in a string."
   ]
  },
  {
   "cell_type": "code",
   "execution_count": 122,
   "metadata": {},
   "outputs": [],
   "source": [
    "def get_bigrams(input_string: str):\n",
    "    \"\"\"\n",
    "    Returns a list of bigrams from the input string.\n",
    "\n",
    "    Args:\n",
    "        input_string (str): The input string.\n",
    "\n",
    "    Returns:\n",
    "        list: A list of bigrams.\n",
    "    \"\"\"\n",
    "    bigrams = []\n",
    "    for i in range(len(input_string) - 1):\n",
    "        bigram = input_string[i:i+2]\n",
    "        bigrams.append(bigram)\n",
    "    return bigrams"
   ]
  },
  {
   "cell_type": "code",
   "execution_count": 123,
   "metadata": {},
   "outputs": [
    {
     "name": "stdout",
     "output_type": "stream",
     "text": [
      "['Th', 'he', 'e ', ' q', 'qu', 'ui', 'ic', 'ck', 'k ', ' b', 'br', 'ro', 'ow', 'wn', 'n ', ' f', 'fo', 'ox', 'x ', ' j', 'ju', 'um', 'mp', 'ps', 's ', ' o', 'ov', 've', 'er', 'r ', ' t', 'th', 'he', 'e ', ' l', 'la', 'az', 'zy', 'y ', ' d', 'do', 'og']\n"
     ]
    }
   ],
   "source": [
    "print(get_bigrams(\"The quick brown fox jumps over the lazy dog\"))"
   ]
  },
  {
   "cell_type": "markdown",
   "metadata": {},
   "source": [
    "5. Given a dictionary with keys as letters and values as lists of letters, write a function `closest_key` to find the key with the input value  closest to the beginning of the list."
   ]
  },
  {
   "cell_type": "code",
   "execution_count": 124,
   "metadata": {},
   "outputs": [],
   "source": [
    "from typing import TypeVar, Optional\n",
    "\n",
    "T = TypeVar(\"T\")  # Generic type for dictionary values\n",
    "\n",
    "\n",
    "def closest_key(dictionary: dict[str, list[T]], value: T) -> Optional[str]:\n",
    "    min_index: int = float(\"inf\")\n",
    "    closest_key: Optional[str] = None\n",
    "\n",
    "    for key, lst in dictionary.items():\n",
    "        if value in lst:\n",
    "            current_index: int = lst.index(value)\n",
    "            if current_index < min_index:\n",
    "                min_index = current_index\n",
    "                closest_key = key\n",
    "\n",
    "    return closest_key"
   ]
  },
  {
   "cell_type": "code",
   "execution_count": 125,
   "metadata": {},
   "outputs": [
    {
     "name": "stdout",
     "output_type": "stream",
     "text": [
      "A\n"
     ]
    }
   ],
   "source": [
    "# Example usage:\n",
    "example_dict: dict[str, list[str]] = {\n",
    "    \"A\": [\"X\", \"Y\", \"Z\"],\n",
    "    \"B\": [\"P\", \"Q\", \"R\", \"X\"],\n",
    "    \"C\": [\"X\", \"M\", \"N\"],\n",
    "}\n",
    "\n",
    "result: Optional[str] = closest_key(example_dict, \"X\")\n",
    "print(result)  # Output: A"
   ]
  }
 ],
 "metadata": {
  "kernelspec": {
   "display_name": ".venv",
   "language": "python",
   "name": "python3"
  },
  "language_info": {
   "codemirror_mode": {
    "name": "ipython",
    "version": 3
   },
   "file_extension": ".py",
   "mimetype": "text/x-python",
   "name": "python",
   "nbconvert_exporter": "python",
   "pygments_lexer": "ipython3",
   "version": "3.12.3"
  }
 },
 "nbformat": 4,
 "nbformat_minor": 2
}
